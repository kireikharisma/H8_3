{
 "cells": [
  {
   "cell_type": "markdown",
   "metadata": {},
   "source": [
    "# Introduction to Python for Data Science"
   ]
  },
  {
   "cell_type": "markdown",
   "metadata": {},
   "source": [
    "## Tipe Data"
   ]
  },
  {
   "cell_type": "markdown",
   "metadata": {},
   "source": [
    "Tipe Data :\n",
    "-\tIntegers : bilangan bulat\n",
    "-\tFloating : bilangan yang menggunakan decimal point\n",
    "-\tString : karakter atau kumpulan karakter\n",
    "-\tBoolean : True atau False"
   ]
  },
  {
   "cell_type": "markdown",
   "metadata": {},
   "source": [
    "### Integers"
   ]
  },
  {
   "cell_type": "code",
   "execution_count": 19,
   "metadata": {},
   "outputs": [
    {
     "name": "stdout",
     "output_type": "stream",
     "text": [
      "123123123123123123123123123123123123123123123124\n"
     ]
    }
   ],
   "source": [
    "print(123123123123123123123123123123123123123123123123 + 1)"
   ]
  },
  {
   "cell_type": "code",
   "execution_count": 20,
   "metadata": {},
   "outputs": [],
   "source": [
    "#ival adalah suatu variabel, variabel : menampung value\n",
    "ival = 123123123123123123123123123123123123123123123123 + 1"
   ]
  },
  {
   "cell_type": "code",
   "execution_count": 21,
   "metadata": {},
   "outputs": [],
   "source": [
    "varabcde = 10"
   ]
  },
  {
   "cell_type": "code",
   "execution_count": 22,
   "metadata": {},
   "outputs": [
    {
     "name": "stdout",
     "output_type": "stream",
     "text": [
      "10\n"
     ]
    }
   ],
   "source": [
    "print(varabcde)"
   ]
  },
  {
   "cell_type": "code",
   "execution_count": 23,
   "metadata": {},
   "outputs": [
    {
     "name": "stdout",
     "output_type": "stream",
     "text": [
      "123123123123123123123123123123123123123123123124\n"
     ]
    }
   ],
   "source": [
    "print(ival)"
   ]
  },
  {
   "cell_type": "code",
   "execution_count": 24,
   "metadata": {},
   "outputs": [
    {
     "data": {
      "text/plain": [
       "int"
      ]
     },
     "execution_count": 24,
     "metadata": {},
     "output_type": "execute_result"
    }
   ],
   "source": [
    "type(ival)"
   ]
  },
  {
   "cell_type": "markdown",
   "metadata": {},
   "source": [
    "### Floating-Point Numbers"
   ]
  },
  {
   "cell_type": "code",
   "execution_count": 25,
   "metadata": {},
   "outputs": [
    {
     "name": "stdout",
     "output_type": "stream",
     "text": [
      "4.2\n",
      "<class 'float'>\n",
      "4.0\n",
      "0.2\n",
      "4000000.0\n",
      "0.00042\n"
     ]
    }
   ],
   "source": [
    "print(4.2)\n",
    "print(type(4.2))\n",
    "print(4.)\n",
    "print(.2)\n",
    "print(.4e7)\n",
    "print(4.2e-4)"
   ]
  },
  {
   "cell_type": "markdown",
   "metadata": {},
   "source": [
    "### Strings"
   ]
  },
  {
   "cell_type": "code",
   "execution_count": 26,
   "metadata": {},
   "outputs": [
    {
     "name": "stdout",
     "output_type": "stream",
     "text": [
      "Hacktiv8\n",
      "<class 'str'>\n"
     ]
    }
   ],
   "source": [
    "print(\"Hacktiv8\")\n",
    "print(type(\"Hacktiv8\"))"
   ]
  },
  {
   "cell_type": "code",
   "execution_count": 27,
   "metadata": {},
   "outputs": [
    {
     "name": "stdout",
     "output_type": "stream",
     "text": [
      "\n"
     ]
    }
   ],
   "source": [
    "print('') #string bisa kosong"
   ]
  },
  {
   "cell_type": "code",
   "execution_count": 28,
   "metadata": {},
   "outputs": [
    {
     "name": "stdout",
     "output_type": "stream",
     "text": [
      "This string contains a single quote (') character.\n",
      "This string contains a single quote (\") character.\n",
      "This string contains a single quote (\") character.\n",
      "This string contains a single quote (') character.\n"
     ]
    }
   ],
   "source": [
    "#agar tidak error jika ada karakter \" atau '\n",
    "print(\"This string contains a single quote (') character.\")\n",
    "print('This string contains a single quote (\") character.')\n",
    "print(\"This string contains a single quote (\\\") character.\")\n",
    "print('This string contains a single quote (\\') character.')"
   ]
  },
  {
   "cell_type": "markdown",
   "metadata": {},
   "source": [
    "### Boolean"
   ]
  },
  {
   "cell_type": "code",
   "execution_count": 29,
   "metadata": {},
   "outputs": [
    {
     "name": "stdout",
     "output_type": "stream",
     "text": [
      "<class 'bool'>\n",
      "<class 'bool'>\n"
     ]
    }
   ],
   "source": [
    "print(type(True))\n",
    "print(type(False))"
   ]
  },
  {
   "cell_type": "markdown",
   "metadata": {},
   "source": [
    "## Variable Assignment"
   ]
  },
  {
   "cell_type": "code",
   "execution_count": 30,
   "metadata": {},
   "outputs": [],
   "source": [
    "n = 100"
   ]
  },
  {
   "cell_type": "code",
   "execution_count": 31,
   "metadata": {},
   "outputs": [
    {
     "name": "stdout",
     "output_type": "stream",
     "text": [
      "100\n"
     ]
    }
   ],
   "source": [
    "print(n)"
   ]
  },
  {
   "cell_type": "code",
   "execution_count": 32,
   "metadata": {},
   "outputs": [
    {
     "data": {
      "text/plain": [
       "100"
      ]
     },
     "execution_count": 32,
     "metadata": {},
     "output_type": "execute_result"
    }
   ],
   "source": [
    "n"
   ]
  },
  {
   "cell_type": "code",
   "execution_count": 33,
   "metadata": {},
   "outputs": [
    {
     "name": "stdout",
     "output_type": "stream",
     "text": [
      "1000 1000 1000\n"
     ]
    }
   ],
   "source": [
    "x = y = z = 1000\n",
    "print(x, y, z)"
   ]
  },
  {
   "cell_type": "markdown",
   "metadata": {},
   "source": [
    "## Variabel Names"
   ]
  },
  {
   "cell_type": "markdown",
   "metadata": {},
   "source": [
    "Penamaan variabel :\n",
    "- Ada tujuan dan mudah dimengerti\n",
    "- huruf, baik huruf besar maupun huruf kecil\n",
    "- karakter hanya garis bawah (_)\n",
    "- dapat berisi angka, tetapi angka tidak boleh menjadi karakter pertama"
   ]
  },
  {
   "cell_type": "code",
   "execution_count": 34,
   "metadata": {},
   "outputs": [
    {
     "name": "stdout",
     "output_type": "stream",
     "text": [
      "Hacktiv8 84 True\n"
     ]
    }
   ],
   "source": [
    "name = \"Hacktiv8\"\n",
    "Age = 84\n",
    "_hasLaptop = True\n",
    "print(name, Age, _hasLaptop)"
   ]
  },
  {
   "cell_type": "code",
   "execution_count": 35,
   "metadata": {},
   "outputs": [
    {
     "ename": "SyntaxError",
     "evalue": "invalid decimal literal (2395250207.py, line 1)",
     "output_type": "error",
     "traceback": [
      "\u001b[1;36m  Input \u001b[1;32mIn [35]\u001b[1;36m\u001b[0m\n\u001b[1;33m    9_nama = \"kosong\" #tidak boleh diawali dengan angka\u001b[0m\n\u001b[1;37m     ^\u001b[0m\n\u001b[1;31mSyntaxError\u001b[0m\u001b[1;31m:\u001b[0m invalid decimal literal\n"
     ]
    }
   ],
   "source": [
    "9_nama = \"kosong\" #tidak boleh diawali dengan angka"
   ]
  },
  {
   "cell_type": "markdown",
   "metadata": {},
   "source": [
    "Metode Penamaan Variabel : \n",
    "harus konsisten\n",
    "- Camel Case : kata kedua dan selanjutnya diakpitalisasi. contoh : numberOfCollege\n",
    "- Pascal Case : setiap kata diawali huruf kapital. contoh : NumberOfCollege\n",
    "- Snake Case : setiap kata dipisahkan dengan underscore. contoh : number_of_college"
   ]
  },
  {
   "cell_type": "markdown",
   "metadata": {},
   "source": [
    "## Operators dan Expressions in Python"
   ]
  },
  {
   "cell_type": "code",
   "execution_count": null,
   "metadata": {},
   "outputs": [
    {
     "data": {
      "text/plain": [
       "30"
      ]
     },
     "execution_count": 19,
     "metadata": {},
     "output_type": "execute_result"
    }
   ],
   "source": [
    "a = 10\n",
    "b = 20\n",
    "a + b\n",
    "#print(a + b)"
   ]
  },
  {
   "cell_type": "code",
   "execution_count": null,
   "metadata": {},
   "outputs": [
    {
     "data": {
      "text/plain": [
       "25"
      ]
     },
     "execution_count": 20,
     "metadata": {},
     "output_type": "execute_result"
    }
   ],
   "source": [
    "a = 10\n",
    "b = 20\n",
    "a + b - 5"
   ]
  },
  {
   "cell_type": "markdown",
   "metadata": {},
   "source": [
    "### Basic Arithmetic Operation"
   ]
  },
  {
   "cell_type": "markdown",
   "metadata": {},
   "source": [
    "- (+)  => penjumlahan\n",
    "- (-)  => pengurangan\n",
    "- (*)  => perkalian\n",
    "- (/)  => pembagian (float)\n",
    "- (//) => pembagian (floor)\n",
    "- (%)  => modulo\n",
    "- (**) => perpangkatan"
   ]
  },
  {
   "cell_type": "code",
   "execution_count": null,
   "metadata": {},
   "outputs": [
    {
     "name": "stdout",
     "output_type": "stream",
     "text": [
      "7\n",
      "3\n",
      "10\n",
      "2.5\n",
      "2\n",
      "1\n",
      "25\n"
     ]
    }
   ],
   "source": [
    "print(5 + 2)\n",
    "print(5 - 2)\n",
    "print(5 * 2)\n",
    "print(5 / 2)\n",
    "print(5 // 2)\n",
    "print(5 % 2)\n",
    "print(5 ** 2)"
   ]
  },
  {
   "cell_type": "markdown",
   "metadata": {},
   "source": [
    "### Operator Penugasan"
   ]
  },
  {
   "cell_type": "markdown",
   "metadata": {},
   "source": [
    "- Pengisian     =\n",
    "- Penjumlahan   +=\n",
    "- Pengurangan   -=\n",
    "- Peerkalian    *=\n",
    "- Pembagian     /=\n",
    "- Sisa bagi     %=\n",
    "- Perpangkatan   **=\n"
   ]
  },
  {
   "cell_type": "code",
   "execution_count": null,
   "metadata": {},
   "outputs": [
    {
     "name": "stdout",
     "output_type": "stream",
     "text": [
      "30\n"
     ]
    }
   ],
   "source": [
    "x = 10\n",
    "y = 20\n",
    "x += y      # x = x + y\n",
    "print(x)"
   ]
  },
  {
   "cell_type": "markdown",
   "metadata": {},
   "source": [
    "### Comparison Operators"
   ]
  },
  {
   "cell_type": "markdown",
   "metadata": {},
   "source": [
    "- Lebih besar                       >\n",
    "- Lebih kecil                       <\n",
    "- Sama dengan                       ==\n",
    "- Tidak sama dengan                 !=\n",
    "- Lebih besar atau sama dengan      >=\n",
    "- Lebih kecil atau sama dengan      <=\n"
   ]
  },
  {
   "cell_type": "code",
   "execution_count": null,
   "metadata": {},
   "outputs": [
    {
     "name": "stdout",
     "output_type": "stream",
     "text": [
      "False\n",
      "True\n",
      "False\n"
     ]
    }
   ],
   "source": [
    "a = 10\n",
    "b = 20\n",
    "print(a == b)\n",
    "print(a < b)\n",
    "print(a > b)"
   ]
  },
  {
   "cell_type": "markdown",
   "metadata": {},
   "source": [
    "### Operator Logika"
   ]
  },
  {
   "cell_type": "markdown",
   "metadata": {},
   "source": [
    "- Logika AND : and (semuanya harus benar, benar)\n",
    "- Logika OR : or (salah satu harus benar, benar)\n",
    "- Negasi/kebalikan : not"
   ]
  },
  {
   "cell_type": "code",
   "execution_count": null,
   "metadata": {},
   "outputs": [
    {
     "name": "stdout",
     "output_type": "stream",
     "text": [
      "False\n",
      "True\n",
      "True\n"
     ]
    }
   ],
   "source": [
    "a = False\n",
    "b = True\n",
    "\n",
    "c = a and b\n",
    "print(c)\n",
    "\n",
    "c = a or b\n",
    "print(c)\n",
    "\n",
    "c = not a\n",
    "print(c)"
   ]
  },
  {
   "cell_type": "markdown",
   "metadata": {},
   "source": [
    "### Operator Ternary"
   ]
  },
  {
   "cell_type": "markdown",
   "metadata": {},
   "source": [
    "Operator ternary juga dikenal dengan operator kondisi karena digunakan untuk membuat sebuah ekspresi kondisi seperti percabangan IF/ELSE\n",
    "\n",
    "Operator ternary tidak ada dalam Python tetapi Python mempunyai cara lain untuk menggantikan operator ini yaitu dengan menggunakan IF/ELSE dala satu baris"
   ]
  },
  {
   "cell_type": "code",
   "execution_count": null,
   "metadata": {},
   "outputs": [
    {
     "name": "stdout",
     "output_type": "stream",
     "text": [
      "<class 'str'>\n",
      "anak\n"
     ]
    }
   ],
   "source": [
    "umur = input(\"berapa umur kamu?\")\n",
    "print(type(umur))\n",
    "aku = \"anak\" if int(umur) <= 10 else \"dewasa\"\n",
    "print(aku)\n",
    "#int(umur) untuk casting type data variabel umur yang awalnya str menjadi int"
   ]
  },
  {
   "cell_type": "markdown",
   "metadata": {},
   "source": [
    "## String Manipulation"
   ]
  },
  {
   "cell_type": "code",
   "execution_count": null,
   "metadata": {},
   "outputs": [
    {
     "name": "stdout",
     "output_type": "stream",
     "text": [
      "foobar\n",
      "foobarbaz\n",
      "Hacktiv8 PTP\n"
     ]
    }
   ],
   "source": [
    "# + Operators untuk menggabungkan\n",
    "s = 'foo'\n",
    "t = 'bar'\n",
    "u = 'baz'\n",
    "\n",
    "print(s + t)\n",
    "\n",
    "print(s + t + u)\n",
    "\n",
    "print('Hacktiv8 ' + 'PTP')"
   ]
  },
  {
   "cell_type": "code",
   "execution_count": null,
   "metadata": {},
   "outputs": [
    {
     "name": "stdout",
     "output_type": "stream",
     "text": [
      "foo.foo.foo.foo.\n",
      "==========================================================\n"
     ]
    }
   ],
   "source": [
    "# * Operators untuk duplikasi\n",
    "\n",
    "s = 'foo.'\n",
    "\n",
    "print(s * 4)\n",
    "\n",
    "print(58*\"=\")"
   ]
  },
  {
   "cell_type": "code",
   "execution_count": null,
   "metadata": {},
   "outputs": [
    {
     "name": "stdout",
     "output_type": "stream",
     "text": [
      "True\n",
      "False\n"
     ]
    }
   ],
   "source": [
    "# in Operators untuk mengecek apakah ada 'sesuatu' di dalam suatu data \n",
    "\n",
    "s = 'foo'\n",
    "\n",
    "print(s in 'That food for us')\n",
    "\n",
    "print(s in 'That good for us')"
   ]
  },
  {
   "cell_type": "code",
   "execution_count": null,
   "metadata": {},
   "outputs": [
    {
     "name": "stdout",
     "output_type": "stream",
     "text": [
      "hacktiv8\n",
      "HACKTIV8\n",
      "hACKtiV8\n",
      "Hadapi dengan senyuman\n",
      "Badai Pasti Berlalu\n"
     ]
    }
   ],
   "source": [
    "# Case Conversion\n",
    "s = 'HackTIv8'\n",
    "\n",
    "# Lower\n",
    "print(s.lower())\n",
    "\n",
    "# Uppercase\n",
    "print(s.upper())\n",
    "\n",
    "# Swapcase\n",
    "print(s.swapcase()) # menukar huruf besar dan huruf kecil\n",
    "\n",
    "s = \"hadapi dengan senyuman\"\n",
    "# Capitalize\n",
    "print(s.capitalize()) # huruf kapital untuk huruf pertama\n",
    "\n",
    "s = \"badai pasti berlalu\"\n",
    "# Title\n",
    "print(s.title()) # huruf kapital untuk huruf pertama setiap kata"
   ]
  },
  {
   "cell_type": "markdown",
   "metadata": {},
   "source": [
    "## Python Lists"
   ]
  },
  {
   "cell_type": "markdown",
   "metadata": {},
   "source": [
    "List adalah kumpulan objek yang arbitrary\n",
    "List mirip dengan array\n",
    "List didefinisikan dalam Python dengan menyertakan sequence object yang dipisahkan dengan tanda koma dalam tanda kurung siku ([])\n"
   ]
  },
  {
   "cell_type": "code",
   "execution_count": null,
   "metadata": {},
   "outputs": [
    {
     "name": "stdout",
     "output_type": "stream",
     "text": [
      "['foo', 'bar', 'baz', 'qux']\n",
      "<class 'list'>\n"
     ]
    }
   ],
   "source": [
    "a = ['foo', 'bar', 'baz', 'qux']\n",
    "\n",
    "print(a)\n",
    "print(type(a))"
   ]
  },
  {
   "cell_type": "markdown",
   "metadata": {},
   "source": [
    "Karakteristik dari list Python :\n",
    "- List disiapkan\n",
    "- List dapat berisi objek sembarang (tersiri dari berbagai macam type)\n",
    "- Elemen dapat diakses dengan menggunakan indeks\n",
    "- List dapat dimasukkan ke kedalaman yag bebas\n",
    "- List bisa berubah\n",
    "- List bersifat dinamis"
   ]
  },
  {
   "cell_type": "code",
   "execution_count": null,
   "metadata": {},
   "outputs": [
    {
     "name": "stdout",
     "output_type": "stream",
     "text": [
      "False\n",
      "True\n"
     ]
    }
   ],
   "source": [
    "a = ['foo', 'bar', 'baz', 'qux']\n",
    "b = ['baz', 'qux', 'bar', 'foo']\n",
    "c = ['foo', 'bar', 'baz', 'qux']\n",
    "\n",
    "print(a == b)\n",
    "\n",
    "print(a == c)\n",
    "# nilai untuk posisi tiap indeks harus sama"
   ]
  },
  {
   "cell_type": "markdown",
   "metadata": {},
   "source": [
    "### List can contain any arbitrary objects\n",
    "Sebuah list dapat berisi bermacam-macam objek. Elemen dari List semuanya bisa berjenis sama"
   ]
  },
  {
   "cell_type": "code",
   "execution_count": null,
   "metadata": {},
   "outputs": [
    {
     "name": "stdout",
     "output_type": "stream",
     "text": [
      "[21.42, 'foobar', 3, 4, 'bark', False, 3.14159]\n"
     ]
    }
   ],
   "source": [
    "a = [21.42, 'foobar', 3, 4, 'bark', False, 3.14159]\n",
    "\n",
    "print(a)"
   ]
  },
  {
   "cell_type": "markdown",
   "metadata": {},
   "source": [
    "### List element can be accessed by index\n",
    "Elemen individual dalam List dapat diakses menggunakan indeks dalam tanda kurung siku\n",
    "\n",
    "Hal ini sama persis dengan mengakses karakter individu dalam sebuah string\n",
    "\n",
    "Indeks dimulai dari 0"
   ]
  },
  {
   "cell_type": "code",
   "execution_count": null,
   "metadata": {},
   "outputs": [
    {
     "name": "stdout",
     "output_type": "stream",
     "text": [
      "corge\n",
      "corge\n"
     ]
    }
   ],
   "source": [
    "listA = ['foo', 'bar', 'baz', 'qux', 'quux', 'corge']\n",
    "\n",
    "print(listA[5])\n",
    "print(listA[-1])"
   ]
  },
  {
   "cell_type": "code",
   "execution_count": null,
   "metadata": {},
   "outputs": [
    {
     "name": "stdout",
     "output_type": "stream",
     "text": [
      "foo\n",
      "baz\n"
     ]
    },
    {
     "ename": "IndexError",
     "evalue": "list index out of range",
     "output_type": "error",
     "traceback": [
      "\u001b[1;31m---------------------------------------------------------------------------\u001b[0m",
      "\u001b[1;31mIndexError\u001b[0m                                Traceback (most recent call last)",
      "\u001b[1;32md:\\Project Python\\MSIB Python for Data Science\\sesi1.ipynb Cell 61\u001b[0m in \u001b[0;36m<cell line: 6>\u001b[1;34m()\u001b[0m\n\u001b[0;32m      <a href='vscode-notebook-cell:/d%3A/Project%20Python/MSIB%20Python%20for%20Data%20Science/sesi1.ipynb#Y130sZmlsZQ%3D%3D?line=2'>3</a>\u001b[0m \u001b[39mprint\u001b[39m(listA[\u001b[39m0\u001b[39m])\n\u001b[0;32m      <a href='vscode-notebook-cell:/d%3A/Project%20Python/MSIB%20Python%20for%20Data%20Science/sesi1.ipynb#Y130sZmlsZQ%3D%3D?line=3'>4</a>\u001b[0m \u001b[39mprint\u001b[39m(listA[\u001b[39m2\u001b[39m])\n\u001b[1;32m----> <a href='vscode-notebook-cell:/d%3A/Project%20Python/MSIB%20Python%20for%20Data%20Science/sesi1.ipynb#Y130sZmlsZQ%3D%3D?line=5'>6</a>\u001b[0m \u001b[39mprint\u001b[39m(listA[\u001b[39m6\u001b[39;49m])\n",
      "\u001b[1;31mIndexError\u001b[0m: list index out of range"
     ]
    }
   ],
   "source": [
    "# List Elements\n",
    "\n",
    "print(listA[0])\n",
    "print(listA[2])\n",
    "\n",
    "print(listA[6])"
   ]
  },
  {
   "cell_type": "code",
   "execution_count": null,
   "metadata": {},
   "outputs": [
    {
     "name": "stdout",
     "output_type": "stream",
     "text": [
      "foo\n"
     ]
    },
    {
     "ename": "IndexError",
     "evalue": "list index out of range",
     "output_type": "error",
     "traceback": [
      "\u001b[1;31m---------------------------------------------------------------------------\u001b[0m",
      "\u001b[1;31mIndexError\u001b[0m                                Traceback (most recent call last)",
      "\u001b[1;32md:\\Project Python\\MSIB Python for Data Science\\sesi1.ipynb Cell 62\u001b[0m in \u001b[0;36m<cell line: 4>\u001b[1;34m()\u001b[0m\n\u001b[0;32m      <a href='vscode-notebook-cell:/d%3A/Project%20Python/MSIB%20Python%20for%20Data%20Science/sesi1.ipynb#Y131sZmlsZQ%3D%3D?line=0'>1</a>\u001b[0m \u001b[39m# List Elements\u001b[39;00m\n\u001b[0;32m      <a href='vscode-notebook-cell:/d%3A/Project%20Python/MSIB%20Python%20for%20Data%20Science/sesi1.ipynb#Y131sZmlsZQ%3D%3D?line=2'>3</a>\u001b[0m \u001b[39mprint\u001b[39m(listA[\u001b[39m-\u001b[39m\u001b[39m6\u001b[39m])\n\u001b[1;32m----> <a href='vscode-notebook-cell:/d%3A/Project%20Python/MSIB%20Python%20for%20Data%20Science/sesi1.ipynb#Y131sZmlsZQ%3D%3D?line=3'>4</a>\u001b[0m \u001b[39mprint\u001b[39m(listA[\u001b[39m-\u001b[39;49m\u001b[39m7\u001b[39;49m])\n",
      "\u001b[1;31mIndexError\u001b[0m: list index out of range"
     ]
    }
   ],
   "source": [
    "# List Elements\n",
    "\n",
    "print(listA[-6])\n",
    "print(listA[-7])"
   ]
  },
  {
   "cell_type": "markdown",
   "metadata": {},
   "source": [
    "#### Slicing\n",
    "Slicing bisa digunakan untuk mengambil bagian dari suatu list\n",
    "\n",
    "Jika listA adalah list, maka\n",
    " ekspresi : \n",
    " listA[m:n] akan mengembalikan porsi/bagian listA dari indeks m ke indeks n (tetapi nilai indeks n tidak termasuk) "
   ]
  },
  {
   "cell_type": "code",
   "execution_count": null,
   "metadata": {},
   "outputs": [
    {
     "data": {
      "text/plain": [
       "['bar', 'baz', 'qux']"
      ]
     },
     "execution_count": 19,
     "metadata": {},
     "output_type": "execute_result"
    }
   ],
   "source": [
    "listA = ['foo', 'bar', 'baz', 'qux', 'quux', 'corge']\n",
    "\n",
    "listA[1:4] # indeks 1 sampai 3 "
   ]
  },
  {
   "cell_type": "code",
   "execution_count": null,
   "metadata": {},
   "outputs": [
    {
     "data": {
      "text/plain": [
       "['foo', 'bar']"
      ]
     },
     "execution_count": 20,
     "metadata": {},
     "output_type": "execute_result"
    }
   ],
   "source": [
    "listA[0:2]"
   ]
  },
  {
   "cell_type": "code",
   "execution_count": null,
   "metadata": {},
   "outputs": [
    {
     "data": {
      "text/plain": [
       "['foo', 'bar', 'baz']"
      ]
     },
     "execution_count": 21,
     "metadata": {},
     "output_type": "execute_result"
    }
   ],
   "source": [
    "listA[:3] # dari awal samapi indeks 2"
   ]
  },
  {
   "cell_type": "code",
   "execution_count": null,
   "metadata": {},
   "outputs": [
    {
     "data": {
      "text/plain": [
       "['qux', 'quux', 'corge']"
      ]
     },
     "execution_count": 22,
     "metadata": {},
     "output_type": "execute_result"
    }
   ],
   "source": [
    "listA[3:] # dari indeks 3 sampai akhir"
   ]
  },
  {
   "cell_type": "code",
   "execution_count": null,
   "metadata": {},
   "outputs": [
    {
     "name": "stdout",
     "output_type": "stream",
     "text": [
      "['foo', 'bar', 'baz', 'qux', 'quux', 'corge']\n",
      "['foo', 'bar', 'baz', 'qux', 'quux', 'corge', 'grault', 'garply']\n",
      "['foo', 'bar', 'baz', 'qux', 'quux', 'corge', 'foo', 'bar', 'baz', 'qux', 'quux', 'corge']\n"
     ]
    }
   ],
   "source": [
    "# The concatenation (+) and replication (*) operators :\n",
    "\n",
    "print(listA)\n",
    "\n",
    "print(listA + ['grault', 'garply'])\n",
    "\n",
    "print(listA * 2) # yang direplikasi hanya 'foo' sampai 'corge' atau dengan kata lain hanya listA sesuai yang dideklarasikan di awal karena penambahan tadi tidak ditampung/disimpan dalam suatu variabel"
   ]
  },
  {
   "cell_type": "code",
   "execution_count": null,
   "metadata": {},
   "outputs": [
    {
     "name": "stdout",
     "output_type": "stream",
     "text": [
      "['foo', 'bar', 'baz', 'qux', 'quux', 'corge']\n",
      "['foo', 'bar', 'baz', 'qux', 'quux', 'corge', 'grault', 'garply']\n",
      "['foo', 'bar', 'baz', 'qux', 'quux', 'corge', 'grault', 'garply', 'foo', 'bar', 'baz', 'qux', 'quux', 'corge', 'grault', 'garply']\n"
     ]
    }
   ],
   "source": [
    "print(listA)\n",
    "\n",
    "listA = listA + ['grault', 'garply']\n",
    "\n",
    "print(listA)\n",
    "\n",
    "print(listA * 2) # yang direplikasi dari 'foo' sampai 'garply' atau dengan kata lain sesuai dengan listA terbaru"
   ]
  },
  {
   "cell_type": "code",
   "execution_count": null,
   "metadata": {},
   "outputs": [
    {
     "name": "stdout",
     "output_type": "stream",
     "text": [
      "['foo', 'bar', 'baz', 'qux', 'quux', 'corge']\n",
      "6\n",
      "bar\n",
      "qux\n"
     ]
    }
   ],
   "source": [
    "# len(), min(), max()\n",
    "\n",
    "listB = ['foo', 'bar', 'baz', 'qux', 'quux', 'corge']\n",
    "\n",
    "print(listB)\n",
    "print(len(listB))\n",
    "print(min(listB))\n",
    "print(max(listB))"
   ]
  },
  {
   "cell_type": "markdown",
   "metadata": {},
   "source": [
    "Fungsi Python max() digunakan untuk menemukan nilai terbesar dalam daftar nilai\n",
    "\n",
    "Fungsi Python min() digunakan untuk menemukan nilai terendah dalam daftar\n",
    "\n",
    "Daftar nilai dapat berisi string atau angka"
   ]
  },
  {
   "cell_type": "code",
   "execution_count": null,
   "metadata": {},
   "outputs": [
    {
     "name": "stdout",
     "output_type": "stream",
     "text": [
      "5\n",
      "40\n",
      "1\n"
     ]
    }
   ],
   "source": [
    "listNilai = [10, 12, 20, 5, 40, 15]\n",
    "\n",
    "print(min(listNilai))\n",
    "print(max(listNilai))\n",
    "print(min(10, 20, 1))"
   ]
  },
  {
   "cell_type": "markdown",
   "metadata": {},
   "source": [
    "### Modifying a Single List Value\n",
    "\n",
    "Suatu nilai dalam list dapat diganti dengan pengindeksan dan assignment seederhana"
   ]
  },
  {
   "cell_type": "code",
   "execution_count": null,
   "metadata": {},
   "outputs": [
    {
     "name": "stdout",
     "output_type": "stream",
     "text": [
      "['foo', 'bar', 'baz', 'qux', 'quux', 'corge']\n"
     ]
    }
   ],
   "source": [
    "lstX = ['foo', 'bar', 'baz', 'qux', 'quux', 'corge']\n",
    "print(lstX)"
   ]
  },
  {
   "cell_type": "code",
   "execution_count": null,
   "metadata": {},
   "outputs": [],
   "source": [
    "lstX[2] = 100\n",
    "print(lstX)"
   ]
  },
  {
   "cell_type": "code",
   "execution_count": null,
   "metadata": {},
   "outputs": [
    {
     "name": "stdout",
     "output_type": "stream",
     "text": [
      "['foo', 'bar', 'baz', 'qux', 'quux', 10]\n"
     ]
    }
   ],
   "source": [
    "lstX = ['foo', 'bar', 'baz', 'qux', 'quux', 'corge']\n",
    "lstX[-1] = 10\n",
    "print(lstX)"
   ]
  },
  {
   "cell_type": "code",
   "execution_count": null,
   "metadata": {},
   "outputs": [
    {
     "name": "stdout",
     "output_type": "stream",
     "text": [
      "['foo', 'bar', 'baz', 'quux', 10]\n"
     ]
    }
   ],
   "source": [
    "# A list item can be deleted with the del command :\n",
    "\n",
    "del lstX[3] # menghapus index ketiga : qux\n",
    "\n",
    "print(lstX)"
   ]
  },
  {
   "cell_type": "markdown",
   "metadata": {},
   "source": [
    "### Modifying Multiple List Values\n",
    "Jika ingin mengubah beberapa elemen yang bersebelahan dalam list sekaliggus\n",
    "\n",
    "Python memungkinkan hal ini dengan slice, dengan sintaks sebagai berikut\n"
   ]
  },
  {
   "cell_type": "code",
   "execution_count": null,
   "metadata": {},
   "outputs": [
    {
     "name": "stdout",
     "output_type": "stream",
     "text": [
      "['bar', 'baz']\n"
     ]
    }
   ],
   "source": [
    "a = ['foo', 'bar', 'baz', 'qux', 'quux', 'corge']\n",
    "\n",
    "print(a[1:3])"
   ]
  },
  {
   "cell_type": "code",
   "execution_count": null,
   "metadata": {},
   "outputs": [
    {
     "name": "stdout",
     "output_type": "stream",
     "text": [
      "['foo', 1.1, 2.2, 3.3, 4.4, 5.5, 'qux', 'quux', 'corge']\n"
     ]
    }
   ],
   "source": [
    "a[1:3] = [1.1, 2.2, 3.3, 4.4, 5.5]\n",
    "\n",
    "print(a)"
   ]
  },
  {
   "cell_type": "markdown",
   "metadata": {},
   "source": [
    "### List"
   ]
  },
  {
   "cell_type": "code",
   "execution_count": null,
   "metadata": {},
   "outputs": [
    {
     "name": "stdout",
     "output_type": "stream",
     "text": [
      "True\n"
     ]
    }
   ],
   "source": [
    "# Operator In\n",
    "\n",
    "buah = ['apel', 'jeruk', 'durian', 'mangga', 'rambutan']\n",
    "\n",
    "print('jeruk' in buah)"
   ]
  },
  {
   "cell_type": "code",
   "execution_count": null,
   "metadata": {},
   "outputs": [
    {
     "name": "stdout",
     "output_type": "stream",
     "text": [
      "False\n"
     ]
    }
   ],
   "source": [
    "print('nangka' in buah)"
   ]
  },
  {
   "cell_type": "code",
   "execution_count": null,
   "metadata": {},
   "outputs": [
    {
     "data": {
      "text/plain": [
       "3"
      ]
     },
     "execution_count": 39,
     "metadata": {},
     "output_type": "execute_result"
    }
   ],
   "source": [
    "# Mencari indeks\n",
    "\n",
    "buah.index('mangga')"
   ]
  },
  {
   "cell_type": "code",
   "execution_count": null,
   "metadata": {},
   "outputs": [
    {
     "ename": "ValueError",
     "evalue": "'anggur' is not in list",
     "output_type": "error",
     "traceback": [
      "\u001b[1;31m---------------------------------------------------------------------------\u001b[0m",
      "\u001b[1;31mValueError\u001b[0m                                Traceback (most recent call last)",
      "\u001b[1;32md:\\Project Python\\MSIB Python for Data Science\\sesi1.ipynb Cell 85\u001b[0m in \u001b[0;36m<cell line: 1>\u001b[1;34m()\u001b[0m\n\u001b[1;32m----> <a href='vscode-notebook-cell:/d%3A/Project%20Python/MSIB%20Python%20for%20Data%20Science/sesi1.ipynb#Y164sZmlsZQ%3D%3D?line=0'>1</a>\u001b[0m buah\u001b[39m.\u001b[39;49mindex(\u001b[39m'\u001b[39;49m\u001b[39manggur\u001b[39;49m\u001b[39m'\u001b[39;49m)\n",
      "\u001b[1;31mValueError\u001b[0m: 'anggur' is not in list"
     ]
    }
   ],
   "source": [
    "buah.index('anggur')"
   ]
  },
  {
   "cell_type": "code",
   "execution_count": null,
   "metadata": {},
   "outputs": [
    {
     "name": "stdout",
     "output_type": "stream",
     "text": [
      "['apel', 'jeruk', 'durian', 'mangga', 'rambutan', 'jeruk']\n"
     ]
    }
   ],
   "source": [
    "# Menambahkan\n",
    "buah.append('jeruk')\n",
    "print(buah)"
   ]
  },
  {
   "cell_type": "code",
   "execution_count": null,
   "metadata": {},
   "outputs": [
    {
     "data": {
      "text/plain": [
       "1"
      ]
     },
     "execution_count": 42,
     "metadata": {},
     "output_type": "execute_result"
    }
   ],
   "source": [
    "# ditemukan nama yang sama maka yang diambil yang pertama\n",
    "buah.index('jeruk')"
   ]
  },
  {
   "cell_type": "code",
   "execution_count": null,
   "metadata": {},
   "outputs": [
    {
     "name": "stdout",
     "output_type": "stream",
     "text": [
      "['apel', 'durian', 'mangga', 'rambutan', 'jeruk']\n"
     ]
    }
   ],
   "source": [
    "# mengahpus menggunakan indeks\n",
    "del buah[1]\n",
    "print(buah)"
   ]
  },
  {
   "cell_type": "code",
   "execution_count": null,
   "metadata": {},
   "outputs": [
    {
     "name": "stdout",
     "output_type": "stream",
     "text": [
      "['apel', 'durian', 'rambutan', 'jeruk']\n"
     ]
    }
   ],
   "source": [
    "# menghapus menggunakan value\n",
    "buah.remove('mangga')\n",
    "print(buah)"
   ]
  },
  {
   "cell_type": "code",
   "execution_count": null,
   "metadata": {},
   "outputs": [
    {
     "name": "stdout",
     "output_type": "stream",
     "text": [
      "['apel', 'durian', 'jeruk', 'rambutan']\n"
     ]
    }
   ],
   "source": [
    "# Sorting list\n",
    "buah.sort()\n",
    "print(buah)"
   ]
  },
  {
   "cell_type": "code",
   "execution_count": null,
   "metadata": {},
   "outputs": [
    {
     "name": "stdout",
     "output_type": "stream",
     "text": [
      "['c', 'd', 'a']\n"
     ]
    }
   ],
   "source": [
    "# Menyalin list\n",
    "\n",
    "listx = ['c', 'd', 'a']\n",
    "listy = listx # menyalin alamat pointer, seperti ngelink, satu alamat\n",
    "print(listy)"
   ]
  },
  {
   "cell_type": "code",
   "execution_count": null,
   "metadata": {},
   "outputs": [
    {
     "name": "stdout",
     "output_type": "stream",
     "text": [
      "['a', 'd', 'a']\n"
     ]
    }
   ],
   "source": [
    "listy[0] = 'a'\n",
    "print(listy)"
   ]
  },
  {
   "cell_type": "code",
   "execution_count": null,
   "metadata": {},
   "outputs": [
    {
     "name": "stdout",
     "output_type": "stream",
     "text": [
      "['a', 'd', 'a']\n"
     ]
    }
   ],
   "source": [
    "print(listx) # listx juga ikut berubah, karena address variabelnya sama"
   ]
  },
  {
   "cell_type": "code",
   "execution_count": null,
   "metadata": {},
   "outputs": [
    {
     "name": "stdout",
     "output_type": "stream",
     "text": [
      "['a', 'd', 'a']\n",
      "['a', 'd', 'a']\n",
      "['x', 'd', 'a']\n"
     ]
    }
   ],
   "source": [
    "# menyalin dapat diatasi dengan copy\n",
    "\n",
    "import copy\n",
    "list1 = copy.copy(listx)\n",
    "print(list1)\n",
    "list1[0] = 'x'\n",
    "print(listx)\n",
    "print(list1)"
   ]
  },
  {
   "cell_type": "markdown",
   "metadata": {},
   "source": [
    "## Python Tuples\n",
    "\n",
    "Python menyediakan tipe lain dari kumpulan objek yang beruurutan, disebut tuple\n",
    "\n",
    "### Defining and Using Tuples\n",
    "\n",
    "Tuples identik dengan list, kecuali dalam hal berikut :\n",
    "- Tuples didefinisikan dengan mengapit elemen dalam tanda kurung(()), bukan kurung siku([])\n",
    "- Tuples tidak bisa diubah\n",
    "\n"
   ]
  },
  {
   "cell_type": "code",
   "execution_count": null,
   "metadata": {},
   "outputs": [
    {
     "name": "stdout",
     "output_type": "stream",
     "text": [
      "('foo', 'bar', 'baz', 'qux', 'quux', 'corge')\n"
     ]
    }
   ],
   "source": [
    "t = ('foo', 'bar', 'baz', 'qux', 'quux', 'corge')\n",
    "\n",
    "print(t)"
   ]
  },
  {
   "cell_type": "code",
   "execution_count": null,
   "metadata": {},
   "outputs": [
    {
     "name": "stdout",
     "output_type": "stream",
     "text": [
      "foo\n"
     ]
    }
   ],
   "source": [
    "print(t[0])"
   ]
  },
  {
   "cell_type": "code",
   "execution_count": null,
   "metadata": {},
   "outputs": [
    {
     "name": "stdout",
     "output_type": "stream",
     "text": [
      "corge\n"
     ]
    }
   ],
   "source": [
    "print(t[-1])"
   ]
  },
  {
   "cell_type": "code",
   "execution_count": null,
   "metadata": {},
   "outputs": [
    {
     "ename": "TypeError",
     "evalue": "'tuple' object does not support item assignment",
     "output_type": "error",
     "traceback": [
      "\u001b[1;31m---------------------------------------------------------------------------\u001b[0m",
      "\u001b[1;31mTypeError\u001b[0m                                 Traceback (most recent call last)",
      "\u001b[1;32md:\\Project Python\\MSIB Python for Data Science\\sesi1.ipynb Cell 99\u001b[0m in \u001b[0;36m<cell line: 1>\u001b[1;34m()\u001b[0m\n\u001b[1;32m----> <a href='vscode-notebook-cell:/d%3A/Project%20Python/MSIB%20Python%20for%20Data%20Science/sesi1.ipynb#Y216sZmlsZQ%3D%3D?line=0'>1</a>\u001b[0m t[\u001b[39m0\u001b[39;49m] \u001b[39m=\u001b[39m \u001b[39m\"\u001b[39m\u001b[39mfee\u001b[39m\u001b[39m\"\u001b[39m\n\u001b[0;32m      <a href='vscode-notebook-cell:/d%3A/Project%20Python/MSIB%20Python%20for%20Data%20Science/sesi1.ipynb#Y216sZmlsZQ%3D%3D?line=1'>2</a>\u001b[0m \u001b[39mprint\u001b[39m(t)\n",
      "\u001b[1;31mTypeError\u001b[0m: 'tuple' object does not support item assignment"
     ]
    }
   ],
   "source": [
    "t[0] = \"fee\"\n",
    "print(t) # nilai elemen tidak bisa diubah"
   ]
  },
  {
   "cell_type": "code",
   "execution_count": null,
   "metadata": {},
   "outputs": [
    {
     "name": "stdout",
     "output_type": "stream",
     "text": [
      "foo\n"
     ]
    }
   ],
   "source": [
    "# packing and unpacking\n",
    "# jumlah variabel harus sesuai dengan jumlah elemen\n",
    "(s0, s1, s2, s3, s4, s5) = ('foo', 'bar', 'baz', 'qux', 'quux', 'corge')\n",
    "print(s0)"
   ]
  },
  {
   "cell_type": "code",
   "execution_count": null,
   "metadata": {},
   "outputs": [
    {
     "ename": "ValueError",
     "evalue": "too many values to unpack (expected 5)",
     "output_type": "error",
     "traceback": [
      "\u001b[1;31m---------------------------------------------------------------------------\u001b[0m",
      "\u001b[1;31mValueError\u001b[0m                                Traceback (most recent call last)",
      "\u001b[1;32md:\\Project Python\\MSIB Python for Data Science\\sesi1.ipynb Cell 101\u001b[0m in \u001b[0;36m<cell line: 1>\u001b[1;34m()\u001b[0m\n\u001b[1;32m----> <a href='vscode-notebook-cell:/d%3A/Project%20Python/MSIB%20Python%20for%20Data%20Science/sesi1.ipynb#Y222sZmlsZQ%3D%3D?line=0'>1</a>\u001b[0m (s0, s1, s2, s3, s4) \u001b[39m=\u001b[39m (\u001b[39m'\u001b[39m\u001b[39mfoo\u001b[39m\u001b[39m'\u001b[39m, \u001b[39m'\u001b[39m\u001b[39mbar\u001b[39m\u001b[39m'\u001b[39m, \u001b[39m'\u001b[39m\u001b[39mbaz\u001b[39m\u001b[39m'\u001b[39m, \u001b[39m'\u001b[39m\u001b[39mqux\u001b[39m\u001b[39m'\u001b[39m, \u001b[39m'\u001b[39m\u001b[39mquux\u001b[39m\u001b[39m'\u001b[39m, \u001b[39m'\u001b[39m\u001b[39mcorge\u001b[39m\u001b[39m'\u001b[39m)\n",
      "\u001b[1;31mValueError\u001b[0m: too many values to unpack (expected 5)"
     ]
    }
   ],
   "source": [
    "# jumlah variabel tidak sesuai dengan jumlah elemen\n",
    "(s0, s1, s2, s3, s4) = ('foo', 'bar', 'baz', 'qux', 'quux', 'corge')"
   ]
  },
  {
   "cell_type": "markdown",
   "metadata": {},
   "source": [
    "## Python Dictionary\n",
    "\n",
    "Dictionaries and lists share the following characteristics :\n",
    "- Kedua bisa berubah\n",
    "- Kedua dinamis, bisa ditambahkan dan dikurangi sesuai kebutuhan\n",
    "- Keduanyadapat bersarang. Sebuah list dapat berisi list lain. Dictionary dapat berisi Dictionary lain. Dictionary juga adapat berisi List, dan sebaliknya\n",
    "\n",
    "\n",
    "Dictionary berbeda dari list terutama dalam cara elemen diakses \n",
    "- Elemen list dakses berdasarkan psoisinya dalam list, melalui pengindeksan\n",
    "- Elemen Dictionary diakses melalui key\n",
    "\n",
    "Dictionaries adalah implementasi associative array dan  identik dengan key-value, key dan value dipisahkan dengan tanda titik dua (:), setiap pasangan key-value dipisahkan dengan tanda koma (,)"
   ]
  },
  {
   "cell_type": "markdown",
   "metadata": {},
   "source": [
    "### Accessing Dictionary Values\n",
    "Sebuah nilai diambil dari dictionary dengan menentukan kunci yang sesuai dalam tanda kurung siku ([])"
   ]
  },
  {
   "cell_type": "code",
   "execution_count": 36,
   "metadata": {},
   "outputs": [],
   "source": [
    "MLB_team = {\n",
    "    'Colorado' : 'Rockies',\n",
    "    'Boston' : 'Red Sox',\n",
    "    'Minnesota' : 'Twins',\n",
    "    'Milwaukee' : 'Brewers',\n",
    "    'Seattle' : 'Mariners' \n",
    "}"
   ]
  },
  {
   "cell_type": "code",
   "execution_count": 37,
   "metadata": {},
   "outputs": [
    {
     "name": "stdout",
     "output_type": "stream",
     "text": [
      "{'Colorado': 'Rockies', 'Boston': 'Red Sox', 'Minnesota': 'Twins', 'Milwaukee': 'Brewers', 'Seattle': 'Mariners'}\n",
      "Red Sox\n",
      "Mariners\n"
     ]
    },
    {
     "ename": "KeyError",
     "evalue": "'milwaukee'",
     "output_type": "error",
     "traceback": [
      "\u001b[1;31m---------------------------------------------------------------------------\u001b[0m",
      "\u001b[1;31mKeyError\u001b[0m                                  Traceback (most recent call last)",
      "\u001b[1;32md:\\Project Python\\MSIB Python for Data Science\\sesi1.ipynb Cell 105\u001b[0m in \u001b[0;36m<cell line: 4>\u001b[1;34m()\u001b[0m\n\u001b[0;32m      <a href='vscode-notebook-cell:/d%3A/Project%20Python/MSIB%20Python%20for%20Data%20Science/sesi1.ipynb#Y206sZmlsZQ%3D%3D?line=1'>2</a>\u001b[0m \u001b[39mprint\u001b[39m(MLB_team[\u001b[39m\"\u001b[39m\u001b[39mBoston\u001b[39m\u001b[39m\"\u001b[39m])\n\u001b[0;32m      <a href='vscode-notebook-cell:/d%3A/Project%20Python/MSIB%20Python%20for%20Data%20Science/sesi1.ipynb#Y206sZmlsZQ%3D%3D?line=2'>3</a>\u001b[0m \u001b[39mprint\u001b[39m(MLB_team[\u001b[39m\"\u001b[39m\u001b[39mSeattle\u001b[39m\u001b[39m\"\u001b[39m])\n\u001b[1;32m----> <a href='vscode-notebook-cell:/d%3A/Project%20Python/MSIB%20Python%20for%20Data%20Science/sesi1.ipynb#Y206sZmlsZQ%3D%3D?line=3'>4</a>\u001b[0m \u001b[39mprint\u001b[39m(MLB_team[\u001b[39m\"\u001b[39;49m\u001b[39mmilwaukee\u001b[39;49m\u001b[39m\"\u001b[39;49m])\n",
      "\u001b[1;31mKeyError\u001b[0m: 'milwaukee'"
     ]
    }
   ],
   "source": [
    "print(MLB_team)\n",
    "print(MLB_team[\"Boston\"])\n",
    "print(MLB_team[\"Seattle\"])\n",
    "print(MLB_team[\"milwaukee\"])"
   ]
  },
  {
   "cell_type": "code",
   "execution_count": 38,
   "metadata": {},
   "outputs": [
    {
     "name": "stdout",
     "output_type": "stream",
     "text": [
      "{'Colorado': 'Rockies', 'Boston': 'Redsox', 'Minnesota': 'Twins', 'Milwaukee': 'Brewers', 'Seattle': 'Mariners'}\n"
     ]
    }
   ],
   "source": [
    "MLB_team[\"Boston\"] = \"Redsox\"\n",
    "\n",
    "print(MLB_team)"
   ]
  },
  {
   "cell_type": "code",
   "execution_count": 39,
   "metadata": {},
   "outputs": [
    {
     "data": {
      "text/plain": [
       "dict"
      ]
     },
     "execution_count": 39,
     "metadata": {},
     "output_type": "execute_result"
    }
   ],
   "source": [
    "person = {}\n",
    "type(person)"
   ]
  },
  {
   "cell_type": "code",
   "execution_count": 40,
   "metadata": {},
   "outputs": [],
   "source": [
    "person['fname'] =  \"Ni Made\"\n",
    "person[\"lname\"] = 'Kirei'\n",
    "person['age'] = 45\n",
    "person[\"children\"] = ['Yusuf', 'Sulaiman', 'Ibrahim', 'Fatimah']\n",
    "person['pets'] = [{'keysArr' : ['ath', 'atl', 'circulatingSupply'], 'Dog' : 'Jumba'}]\n",
    "person[\"skill\"] = {\"programming\" : ['Java', 'Golang', 'Python', 'Solidity'],\n",
    "                    \"database\" : {\"nosql\" : ['MongoDb', 'Neo4J'], \"rdbms\" : [\"MySQL\", \"PostgresSQL\", \"Oracle\"]}}"
   ]
  },
  {
   "cell_type": "code",
   "execution_count": 41,
   "metadata": {},
   "outputs": [
    {
     "name": "stdout",
     "output_type": "stream",
     "text": [
      "{'fname': 'Ni Made', 'lname': 'Kirei', 'age': 45, 'children': ['Yusuf', 'Sulaiman', 'Ibrahim', 'Fatimah'], 'pets': [{'keysArr': ['ath', 'atl', 'circulatingSupply'], 'Dog': 'Jumba'}], 'skill': {'programming': ['Java', 'Golang', 'Python', 'Solidity'], 'database': {'nosql': ['MongoDb', 'Neo4J'], 'rdbms': ['MySQL', 'PostgresSQL', 'Oracle']}}}\n"
     ]
    }
   ],
   "source": [
    "print(person)"
   ]
  },
  {
   "cell_type": "code",
   "execution_count": 42,
   "metadata": {},
   "outputs": [
    {
     "name": "stdout",
     "output_type": "stream",
     "text": [
      "{'age': 45,\n",
      " 'children': ['Yusuf', 'Sulaiman', 'Ibrahim', 'Fatimah'],\n",
      " 'fname': 'Ni Made',\n",
      " 'lname': 'Kirei',\n",
      " 'pets': [{'Dog': 'Jumba', 'keysArr': ['ath', 'atl', 'circulatingSupply']}],\n",
      " 'skill': {'database': {'nosql': ['MongoDb', 'Neo4J'],\n",
      "                        'rdbms': ['MySQL', 'PostgresSQL', 'Oracle']},\n",
      "           'programming': ['Java', 'Golang', 'Python', 'Solidity']}}\n"
     ]
    }
   ],
   "source": [
    "# agar lebih rapi gunakan pprint\n",
    "import pprint\n",
    "pprint.pprint(person)"
   ]
  },
  {
   "cell_type": "code",
   "execution_count": 43,
   "metadata": {},
   "outputs": [],
   "source": [
    "person[\"status_menikah\"] = True"
   ]
  },
  {
   "cell_type": "code",
   "execution_count": 44,
   "metadata": {},
   "outputs": [
    {
     "name": "stdout",
     "output_type": "stream",
     "text": [
      "{\n",
      "    \"fname\": \"Ni Made\",\n",
      "    \"lname\": \"Kirei\",\n",
      "    \"age\": 45,\n",
      "    \"children\": [\n",
      "        \"Yusuf\",\n",
      "        \"Sulaiman\",\n",
      "        \"Ibrahim\",\n",
      "        \"Fatimah\"\n",
      "    ],\n",
      "    \"pets\": [\n",
      "        {\n",
      "            \"keysArr\": [\n",
      "                \"ath\",\n",
      "                \"atl\",\n",
      "                \"circulatingSupply\"\n",
      "            ],\n",
      "            \"Dog\": \"Jumba\"\n",
      "        }\n",
      "    ],\n",
      "    \"skill\": {\n",
      "        \"programming\": [\n",
      "            \"Java\",\n",
      "            \"Golang\",\n",
      "            \"Python\",\n",
      "            \"Solidity\"\n",
      "        ],\n",
      "        \"database\": {\n",
      "            \"nosql\": [\n",
      "                \"MongoDb\",\n",
      "                \"Neo4J\"\n",
      "            ],\n",
      "            \"rdbms\": [\n",
      "                \"MySQL\",\n",
      "                \"PostgresSQL\",\n",
      "                \"Oracle\"\n",
      "            ]\n",
      "        }\n",
      "    },\n",
      "    \"status_menikah\": true\n",
      "}\n"
     ]
    }
   ],
   "source": [
    "\n",
    "# agar tampilan lebih bagus eketika di print : menggunakan json\n",
    "import json\n",
    "print(json.dumps(person, sort_keys = False, indent = 4))"
   ]
  },
  {
   "cell_type": "code",
   "execution_count": 45,
   "metadata": {},
   "outputs": [
    {
     "name": "stdout",
     "output_type": "stream",
     "text": [
      "Ni Made\n",
      "Kirei\n"
     ]
    }
   ],
   "source": [
    "print(person['fname'])\n",
    "print(person['lname'])"
   ]
  },
  {
   "cell_type": "code",
   "execution_count": 46,
   "metadata": {},
   "outputs": [
    {
     "name": "stdout",
     "output_type": "stream",
     "text": [
      "['Yusuf', 'Sulaiman', 'Ibrahim', 'Fatimah']\n",
      "Ibrahim\n"
     ]
    }
   ],
   "source": [
    "print(person['children'])\n",
    "print(person['children'][2])"
   ]
  },
  {
   "cell_type": "code",
   "execution_count": 47,
   "metadata": {},
   "outputs": [
    {
     "name": "stdout",
     "output_type": "stream",
     "text": [
      "{'nosql': ['MongoDb', 'Neo4J'], 'rdbms': ['MySQL', 'PostgresSQL', 'Oracle']}\n"
     ]
    }
   ],
   "source": [
    "print(person['skill']['database'])"
   ]
  },
  {
   "cell_type": "code",
   "execution_count": 48,
   "metadata": {},
   "outputs": [
    {
     "name": "stdout",
     "output_type": "stream",
     "text": [
      "['MySQL', 'PostgresSQL', 'Oracle']\n"
     ]
    }
   ],
   "source": [
    "print(person['skill']['database']['rdbms'])"
   ]
  },
  {
   "cell_type": "code",
   "execution_count": 49,
   "metadata": {},
   "outputs": [
    {
     "name": "stdout",
     "output_type": "stream",
     "text": [
      "PostgresSQL\n"
     ]
    }
   ],
   "source": [
    "print(person['skill']['database']['rdbms'][1])"
   ]
  },
  {
   "cell_type": "code",
   "execution_count": 50,
   "metadata": {},
   "outputs": [
    {
     "name": "stdout",
     "output_type": "stream",
     "text": [
      "{'a': 10, 'b': 20, 'c': 30}\n"
     ]
    }
   ],
   "source": [
    "# Built-in Methods\n",
    "d = {'a' : 10, 'b': 20, 'c' : 30}\n",
    "print(d)"
   ]
  },
  {
   "cell_type": "code",
   "execution_count": 52,
   "metadata": {},
   "outputs": [
    {
     "name": "stdout",
     "output_type": "stream",
     "text": [
      "dict_items([('a', 10), ('b', 20), ('c', 30)])\n"
     ]
    }
   ],
   "source": [
    "# items \n",
    "print(d.items())"
   ]
  },
  {
   "cell_type": "code",
   "execution_count": 53,
   "metadata": {},
   "outputs": [
    {
     "name": "stdout",
     "output_type": "stream",
     "text": [
      "dict_keys(['a', 'b', 'c'])\n"
     ]
    }
   ],
   "source": [
    "# keys\n",
    "print(d.keys())"
   ]
  },
  {
   "cell_type": "code",
   "execution_count": 54,
   "metadata": {},
   "outputs": [
    {
     "name": "stdout",
     "output_type": "stream",
     "text": [
      "dict_values([10, 20, 30])\n"
     ]
    }
   ],
   "source": [
    "# values\n",
    "print(d.values())"
   ]
  },
  {
   "cell_type": "markdown",
   "metadata": {},
   "source": [
    "### Line Continuation\n",
    "Digunakan untuk suatu pernyataan Python yang sangat panjang dan memiliki assignment dengan banyak terms"
   ]
  },
  {
   "cell_type": "code",
   "execution_count": 57,
   "metadata": {},
   "outputs": [
    {
     "data": {
      "text/plain": [
       "True"
      ]
     },
     "execution_count": 57,
     "metadata": {},
     "output_type": "execute_result"
    }
   ],
   "source": [
    "person1_age = 42\n",
    "person2_age = 16\n",
    "person3_age = 72\n",
    "\n",
    "someone_is_of_working_age = (person1_age >= 18 and person1_age <= 65) or (person2_age >= 18 and person2_age <= 65) or (person3_age >= 18 and person3_age <=65) \n",
    "#kondisi sangat panjang\n",
    "\n",
    "someone_is_of_working_age"
   ]
  },
  {
   "cell_type": "code",
   "execution_count": 59,
   "metadata": {},
   "outputs": [
    {
     "data": {
      "text/plain": [
       "True"
      ]
     },
     "execution_count": 59,
     "metadata": {},
     "output_type": "execute_result"
    }
   ],
   "source": [
    "#penulisan kondisi dipermudah\n",
    "someone_is_of_working_age = ((person1_age >= 18 and person1_age <= 65) or\n",
    "                            (person2_age >= 18 and person2_age <= 65) or\n",
    "                            (person3_age >=18 and person3_age <= 65)\n",
    "                            )\n",
    "\n",
    "someone_is_of_working_age"
   ]
  },
  {
   "cell_type": "markdown",
   "metadata": {},
   "source": [
    "## Casting\n",
    "Merubah tipe data (dari satu tipe data ke tipe data lain)"
   ]
  },
  {
   "cell_type": "code",
   "execution_count": 60,
   "metadata": {},
   "outputs": [
    {
     "name": "stdout",
     "output_type": "stream",
     "text": [
      "data :  10.2 Tipe data :  <class 'float'>\n"
     ]
    }
   ],
   "source": [
    "# float\n",
    "\n",
    "data_float = 10.2\n",
    "print(\"data : \", data_float, \"Tipe data : \", type(data_float))"
   ]
  },
  {
   "cell_type": "code",
   "execution_count": 62,
   "metadata": {},
   "outputs": [
    {
     "name": "stdout",
     "output_type": "stream",
     "text": [
      "Data :  10  Tipe data :  <class 'int'>\n",
      "Data :  10.2  Tipe data :  <class 'str'>\n",
      "Data :  True  Tipe data :  <class 'bool'>\n"
     ]
    }
   ],
   "source": [
    "# Casting float\n",
    "# float -> integer\n",
    "data_int = int(data_float)\n",
    "# float -> string\n",
    "data_str = str(data_float)\n",
    "# float -> boolean\n",
    "data_bool = bool(data_float)\n",
    "\n",
    "print(\"Data : \", data_int, \" Tipe data : \", type(data_int))\n",
    "print(\"Data : \", data_str, \" Tipe data : \", type(data_str))\n",
    "print(\"Data : \", data_bool, \" Tipe data : \", type(data_bool)) # boolean selain 0 itu True, 0 => False\n"
   ]
  },
  {
   "cell_type": "code",
   "execution_count": 63,
   "metadata": {},
   "outputs": [
    {
     "name": "stdout",
     "output_type": "stream",
     "text": [
      "Data :  0  Tipe data :  <class 'int'>\n"
     ]
    }
   ],
   "source": [
    "# Integer\n",
    "\n",
    "data_int = 0\n",
    "print(\"Data : \", data_int, \" Tipe data : \", type(data_int))"
   ]
  },
  {
   "cell_type": "code",
   "execution_count": 65,
   "metadata": {},
   "outputs": [
    {
     "name": "stdout",
     "output_type": "stream",
     "text": [
      "Data :  0.0  Tipe data :  <class 'float'>\n",
      "Data :  0  Tipe data :  <class 'str'>\n",
      "Data :  False  Tipe data :  <class 'bool'>\n"
     ]
    }
   ],
   "source": [
    "# Casting integer\n",
    "# integer -> float\n",
    "data_float = float(data_int)\n",
    "# integer -> string\n",
    "data_str = str(data_int)\n",
    "# integer -> boolean\n",
    "data_bool = bool(data_int)\n",
    "\n",
    "print(\"Data : \", data_float, \" Tipe data : \", type(data_float))\n",
    "print(\"Data : \", data_str, \" Tipe data : \", type(data_str))\n",
    "print(\"Data : \", data_bool, \" Tipe data : \", type(data_bool)) # boolean selain 0 itu True, 0 => False\n"
   ]
  },
  {
   "cell_type": "code",
   "execution_count": 71,
   "metadata": {},
   "outputs": [
    {
     "name": "stdout",
     "output_type": "stream",
     "text": [
      "Data :  False  Tipe data :  <class 'bool'>\n"
     ]
    }
   ],
   "source": [
    "# Boolean\n",
    "\n",
    "data_bool = False #change to True\n",
    "print(\"Data : \", data_bool, \" Tipe data : \", type(data_bool))"
   ]
  },
  {
   "cell_type": "code",
   "execution_count": 72,
   "metadata": {},
   "outputs": [
    {
     "name": "stdout",
     "output_type": "stream",
     "text": [
      "Data :  0  Tipe data :  <class 'int'>\n",
      "Data :  False  Tipe data :  <class 'str'>\n",
      "Data :  0.0  Tipe data :  <class 'float'>\n"
     ]
    }
   ],
   "source": [
    "# Casting bool\n",
    "data_int = int(data_bool)\n",
    "data_str = str(data_bool)\n",
    "data_float = float(data_bool)\n",
    "\n",
    "print(\"Data : \", data_int, \" Tipe data : \", type(data_int))\n",
    "print(\"Data : \", data_str, \" Tipe data : \", type(data_str))\n",
    "print(\"Data : \", data_float, \" Tipe data : \", type(data_float))\n"
   ]
  },
  {
   "cell_type": "code",
   "execution_count": 86,
   "metadata": {},
   "outputs": [
    {
     "name": "stdout",
     "output_type": "stream",
     "text": [
      "Data :  10.5  Tipe data :  <class 'str'>\n"
     ]
    }
   ],
   "source": [
    "# String\n",
    "\n",
    "data_str = \"10.5\" \n",
    "print(\"Data : \", data_str, \" Tipe data : \", type(data_str))"
   ]
  },
  {
   "cell_type": "code",
   "execution_count": 89,
   "metadata": {},
   "outputs": [
    {
     "name": "stdout",
     "output_type": "stream",
     "text": [
      "Data :  True  Tipe data :  <class 'bool'>\n",
      "Data :  10  Tipe data :  <class 'str'>\n",
      "Data :  10.5  Tipe data :  <class 'float'>\n"
     ]
    }
   ],
   "source": [
    "# Casting str\n",
    "data_bool = bool(data_str) \n",
    "data_int = int(float(data_str))\n",
    "data_float = float(data_str)\n",
    "\n",
    "print(\"Data : \", data_bool, \" Tipe data : \", type(data_bool))\n",
    "print(\"Data : \", data_int, \" Tipe data : \", type(data_str))\n",
    "print(\"Data : \", data_float, \" Tipe data : \", type(data_float))"
   ]
  },
  {
   "cell_type": "code",
   "execution_count": 90,
   "metadata": {},
   "outputs": [
    {
     "name": "stdout",
     "output_type": "stream",
     "text": [
      "['B', 'e', 'l', 'a', 'j', 'a', 'r', ' ', 'P', 'y', 't', 'h', 'o', 'n', ' ', 'd', 'i', ' ', 'H', 'a', 'c', 'k', 't', 'i', 'v', '8', '.']\n",
      "('B', 'e', 'l', 'a', 'j', 'a', 'r', ' ', 'P', 'y', 't', 'h', 'o', 'n', ' ', 'd', 'i', ' ', 'H', 'a', 'c', 'k', 't', 'i', 'v', '8', '.')\n",
      "{'d', 'a', 'j', 'h', ' ', 'k', 'e', 't', '8', 'B', '.', 'y', 'n', 'l', 'i', 'v', 'c', 'o', 'P', 'H', 'r'}\n"
     ]
    }
   ],
   "source": [
    "text = \"Belajar Python di Hacktiv8.\"\n",
    "\n",
    "print(list(text))\n",
    "print(tuple(text))\n",
    "print(set(text))"
   ]
  }
 ],
 "metadata": {
  "kernelspec": {
   "display_name": "Python 3.10.6 64-bit",
   "language": "python",
   "name": "python3"
  },
  "language_info": {
   "codemirror_mode": {
    "name": "ipython",
    "version": 3
   },
   "file_extension": ".py",
   "mimetype": "text/x-python",
   "name": "python",
   "nbconvert_exporter": "python",
   "pygments_lexer": "ipython3",
   "version": "3.10.6"
  },
  "orig_nbformat": 4,
  "vscode": {
   "interpreter": {
    "hash": "ce1a37e06af585fbe6dc97dc2317553a19466d7e09ea6e29657e0bcedd27e5a7"
   }
  }
 },
 "nbformat": 4,
 "nbformat_minor": 2
}
