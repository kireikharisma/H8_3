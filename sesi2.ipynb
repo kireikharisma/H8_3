{
 "cells": [
  {
   "cell_type": "markdown",
   "metadata": {},
   "source": [
    "# Percabangan dan Perulangan"
   ]
  },
  {
   "cell_type": "markdown",
   "metadata": {},
   "source": [
    "## Logical Condition\n",
    "\n",
    "Lebih besar >\n",
    "\n",
    "Lebih kecil <\n",
    " \n",
    "Sama dengan ==\n",
    " \n",
    "Tidak sama dengan !=\n",
    "\n",
    "Lebih besar sama dengan >=\n",
    "\n",
    "Lebih kecil sama dengan <=\n",
    "   "
   ]
  },
  {
   "cell_type": "markdown",
   "metadata": {},
   "source": [
    "## IF Statement"
   ]
  },
  {
   "cell_type": "code",
   "execution_count": 1,
   "metadata": {},
   "outputs": [
    {
     "name": "stdout",
     "output_type": "stream",
     "text": [
      "yes\n",
      "yes\n",
      "yes\n"
     ]
    }
   ],
   "source": [
    "x = 0\n",
    "y = 5\n",
    "\n",
    "if x < y :                  #Truthy\n",
    "    print('yes')        \n",
    "\n",
    "if y < x :                  #Falsy\n",
    "    print('yes')      \n",
    "    \n",
    "if x :                      #Falsy\n",
    "    print('yes')        \n",
    "    \n",
    "if y :                      #Truthy\n",
    "    print('yes')\n",
    "    \n",
    "if 'aul' in 'grault' :      #Truthy\n",
    "    print('yes')       "
   ]
  },
  {
   "cell_type": "code",
   "execution_count": 2,
   "metadata": {},
   "outputs": [
    {
     "name": "stdout",
     "output_type": "stream",
     "text": [
      "True\n",
      "False\n",
      "True\n",
      "True\n",
      "True\n",
      "True\n",
      "True\n"
     ]
    }
   ],
   "source": [
    "a = 10\n",
    "b = 10\n",
    "    \n",
    "print(a == b)\n",
    "    \n",
    "print(a != b)   # False\n",
    "    \n",
    "print(a <= b)\n",
    "\n",
    "print(a >= b)\n",
    "    \n",
    "    \n",
    "a = 30\n",
    "b = 30\n",
    "    \n",
    "print(a == b)\n",
    "    \n",
    "print(a <= b)\n",
    "    \n",
    "print(a >= b)"
   ]
  },
  {
   "cell_type": "markdown",
   "metadata": {},
   "source": [
    "### Introduction to the if Statement"
   ]
  },
  {
   "cell_type": "markdown",
   "metadata": {},
   "source": [
    "if  <expr> :\n",
    "    <statement>"
   ]
  },
  {
   "cell_type": "code",
   "execution_count": 3,
   "metadata": {},
   "outputs": [],
   "source": [
    "x = 15\n",
    "y = 15"
   ]
  },
  {
   "cell_type": "code",
   "execution_count": 4,
   "metadata": {},
   "outputs": [],
   "source": [
    "if x < y:\n",
    "    print(\"Yes, x < y\")"
   ]
  },
  {
   "cell_type": "code",
   "execution_count": 5,
   "metadata": {},
   "outputs": [],
   "source": [
    "if x > y :\n",
    "    print(\"Yes, x > y\")"
   ]
  },
  {
   "cell_type": "code",
   "execution_count": 6,
   "metadata": {},
   "outputs": [],
   "source": [
    "if x != y :\n",
    "    print(\"Yes, x != y\")"
   ]
  },
  {
   "cell_type": "code",
   "execution_count": 7,
   "metadata": {},
   "outputs": [
    {
     "name": "stdout",
     "output_type": "stream",
     "text": [
      "Yes, x <= y\n"
     ]
    }
   ],
   "source": [
    "if x <= y :\n",
    "    print(\"Yes, x <= y\")"
   ]
  },
  {
   "cell_type": "code",
   "execution_count": 8,
   "metadata": {},
   "outputs": [
    {
     "name": "stdout",
     "output_type": "stream",
     "text": [
      "Yes, x >= y\n"
     ]
    }
   ],
   "source": [
    "if x >= y :\n",
    "    print(\"Yes, x >= y\")"
   ]
  },
  {
   "cell_type": "code",
   "execution_count": 9,
   "metadata": {},
   "outputs": [],
   "source": [
    "if 'all' in 'grault' :\n",
    "    print('Yes')"
   ]
  },
  {
   "cell_type": "code",
   "execution_count": 10,
   "metadata": {},
   "outputs": [
    {
     "name": "stdout",
     "output_type": "stream",
     "text": [
      "Selesai\n"
     ]
    }
   ],
   "source": [
    " if 'fo' in ['foo', 'bar', 'baz'] :\n",
    "    print('Yes')\n",
    "    print('DONE')\n",
    "print('Selesai')"
   ]
  },
  {
   "cell_type": "markdown",
   "metadata": {},
   "source": [
    "### Grouping Satements : Indentation and Blocks"
   ]
  },
  {
   "cell_type": "code",
   "execution_count": 12,
   "metadata": {},
   "outputs": [
    {
     "name": "stdout",
     "output_type": "stream",
     "text": [
      "Next\n",
      "DONE\n"
     ]
    }
   ],
   "source": [
    "x = 3\n",
    "y = 2\n",
    "    \n",
    "if x < y :\n",
    "    print(\"OK\")\n",
    "print(\"Next\")    \n",
    "print(\"DONE\")"
   ]
  },
  {
   "cell_type": "code",
   "execution_count": 13,
   "metadata": {},
   "outputs": [
    {
     "name": "stdout",
     "output_type": "stream",
     "text": [
      "OK\n",
      "Next\n",
      "DONE\n"
     ]
    }
   ],
   "source": [
    "if x > y :\n",
    "    print(\"OK\")\n",
    "print(\"Next\")\n",
    "print(\"DONE\")"
   ]
  },
  {
   "cell_type": "code",
   "execution_count": 1,
   "metadata": {},
   "outputs": [
    {
     "name": "stdout",
     "output_type": "stream",
     "text": [
      "Expression was true\n",
      "Executing statement in suite\n",
      "...\n",
      "Done\n",
      "After conditional\n"
     ]
    }
   ],
   "source": [
    " if 'baz' in ['bar', 'baz', 'qux'] :\n",
    "    print('Expression was true')\n",
    "    print('Executing statement in suite')\n",
    "    print('...')\n",
    "    print('Done')\n",
    "print('After conditional')"
   ]
  },
  {
   "cell_type": "code",
   "execution_count": 3,
   "metadata": {},
   "outputs": [
    {
     "name": "stdout",
     "output_type": "stream",
     "text": [
      "Outer condition is true\n",
      "Between inner conditions\n",
      "Inner condition 2\n",
      "End of outer condition\n",
      "After outer condition\n"
     ]
    }
   ],
   "source": [
    "# Does line eecute?         Yes     No\n",
    "#                           ---     ---\n",
    "if 'foo' in ['foo', 'bar', 'baz'] :\n",
    "    print('Outer condition is true')\n",
    "    \n",
    "    if 10 > 20 :\n",
    "        print('Inner condition 1')\n",
    "    \n",
    "    print('Between inner conditions')\n",
    "    \n",
    "\n",
    "    if 10 < 20 :\n",
    "        print('Inner condition 2')\n",
    "    \n",
    "    print('End of outer condition')\n",
    "print('After outer condition')"
   ]
  },
  {
   "cell_type": "code",
   "execution_count": 4,
   "metadata": {},
   "outputs": [
    {
     "name": "stdout",
     "output_type": "stream",
     "text": [
      "x lebih kecil dari y\n"
     ]
    }
   ],
   "source": [
    "x, y = 9, 10\n",
    "if (x<y) :\n",
    "    msg = \"x lebih kecil dari y\"\n",
    "    \n",
    "print(msg)"
   ]
  },
  {
   "cell_type": "code",
   "execution_count": 5,
   "metadata": {},
   "outputs": [
    {
     "ename": "NameError",
     "evalue": "name 'msg1' is not defined",
     "output_type": "error",
     "traceback": [
      "\u001b[1;31m---------------------------------------------------------------------------\u001b[0m",
      "\u001b[1;31mNameError\u001b[0m                                 Traceback (most recent call last)",
      "\u001b[1;32md:\\Project Python\\MSIB Python for Data Science\\sesi2new.ipynb Cell 22\u001b[0m in \u001b[0;36m<cell line: 5>\u001b[1;34m()\u001b[0m\n\u001b[0;32m      <a href='vscode-notebook-cell:/d%3A/Project%20Python/MSIB%20Python%20for%20Data%20Science/sesi2new.ipynb#X30sZmlsZQ%3D%3D?line=1'>2</a>\u001b[0m \u001b[39mif\u001b[39;00m (x\u001b[39m<\u001b[39my) :\n\u001b[0;32m      <a href='vscode-notebook-cell:/d%3A/Project%20Python/MSIB%20Python%20for%20Data%20Science/sesi2new.ipynb#X30sZmlsZQ%3D%3D?line=2'>3</a>\u001b[0m     msg1 \u001b[39m=\u001b[39m \u001b[39m\"\u001b[39m\u001b[39mx lebih kecil dari y\u001b[39m\u001b[39m\"\u001b[39m\n\u001b[1;32m----> <a href='vscode-notebook-cell:/d%3A/Project%20Python/MSIB%20Python%20for%20Data%20Science/sesi2new.ipynb#X30sZmlsZQ%3D%3D?line=4'>5</a>\u001b[0m \u001b[39mprint\u001b[39m(msg1)\n",
      "\u001b[1;31mNameError\u001b[0m: name 'msg1' is not defined"
     ]
    }
   ],
   "source": [
    "x, y = 10, 10\n",
    "if (x<y) :\n",
    "    msg1 = \"x lebih kecil dari y\"\n",
    "    \n",
    "print(msg1)"
   ]
  },
  {
   "cell_type": "markdown",
   "metadata": {},
   "source": [
    "### The Else and Elif Clauses"
   ]
  },
  {
   "cell_type": "code",
   "execution_count": null,
   "metadata": {},
   "outputs": [],
   "source": [
    "if <expr> :\n",
    "    <statement(s)>\n",
    "else :\n",
    "    <statement(s)>"
   ]
  },
  {
   "cell_type": "code",
   "execution_count": 6,
   "metadata": {},
   "outputs": [
    {
     "name": "stdout",
     "output_type": "stream",
     "text": [
      "(second suite)\n",
      "x is large\n",
      "DONE\n"
     ]
    }
   ],
   "source": [
    "x = 50\n",
    "if x < 50 :\n",
    "    print('(first suite)')\n",
    "    print('x is small')\n",
    "else :\n",
    "    print('(second suite)')\n",
    "    print('x is large')\n",
    "    \n",
    "print('DONE')"
   ]
  },
  {
   "cell_type": "code",
   "execution_count": 7,
   "metadata": {},
   "outputs": [
    {
     "name": "stdout",
     "output_type": "stream",
     "text": [
      "Beli buku\n"
     ]
    }
   ],
   "source": [
    "hargaBuku = 20000\n",
    "hargaMajalah = 5000\n",
    "uang = 200000\n",
    "    \n",
    "if uang >= hargaBuku :\n",
    "    print(\"Beli buku\")\n",
    "else :\n",
    "    print(\"Uang tidak cukup\")"
   ]
  },
  {
   "cell_type": "markdown",
   "metadata": {},
   "source": [
    "if <expr> :\n",
    "    <statement(s)>\n",
    "elif <expr> :\n",
    "    <statement(s)>\n",
    "elif <expr> :\n",
    "    <statement(s)>\n",
    "    ...\n",
    "else :\n",
    "    <statement(s)>"
   ]
  },
  {
   "cell_type": "code",
   "execution_count": 8,
   "metadata": {},
   "outputs": [
    {
     "name": "stdout",
     "output_type": "stream",
     "text": [
      "Beli buku\n",
      "DONE\n"
     ]
    }
   ],
   "source": [
    "hargaBuku = 20000\n",
    "hargaMajalah = 50000\n",
    "uang = 29000\n",
    "    \n",
    "# msg = \"Uang tidak cukup\"\n",
    "if uang >= hargaMajalah :\n",
    "    msg = \"Beli majalah\"\n",
    "elif uang >= hargaBuku :\n",
    "    msg = \"Beli buku\"\n",
    "else :\n",
    "    msg = \"Uang tidak cukup\"\n",
    "    \n",
    "print(msg)\n",
    "print(\"DONE\")"
   ]
  },
  {
   "cell_type": "code",
   "execution_count": 9,
   "metadata": {},
   "outputs": [
    {
     "name": "stdout",
     "output_type": "stream",
     "text": [
      "This won't happen\n"
     ]
    }
   ],
   "source": [
    "var = True\n",
    "    \n",
    "if 's' in 'bar' :\n",
    "    print('foo')\n",
    "elif bool(10%3) :\n",
    "    print(\"This won't happen\")\n",
    "elif var : \n",
    "    print(\"This won't either\")"
   ]
  },
  {
   "cell_type": "markdown",
   "metadata": {},
   "source": [
    "### The Python pass Statement"
   ]
  },
  {
   "cell_type": "code",
   "execution_count": 10,
   "metadata": {},
   "outputs": [
    {
     "ename": "IndentationError",
     "evalue": "expected an indented block after 'if' statement on line 3 (2523249381.py, line 4)",
     "output_type": "error",
     "traceback": [
      "\u001b[1;36m  Input \u001b[1;32mIn [10]\u001b[1;36m\u001b[0m\n\u001b[1;33m    print('foo')\u001b[0m\n\u001b[1;37m    ^\u001b[0m\n\u001b[1;31mIndentationError\u001b[0m\u001b[1;31m:\u001b[0m expected an indented block after 'if' statement on line 3\n"
     ]
    }
   ],
   "source": [
    "x = 10\n",
    "y = 11\n",
    "if x < y :  #error\n",
    "print('foo')"
   ]
  },
  {
   "cell_type": "code",
   "execution_count": 11,
   "metadata": {},
   "outputs": [
    {
     "name": "stdout",
     "output_type": "stream",
     "text": [
      "foo\n"
     ]
    }
   ],
   "source": [
    "x = 10\n",
    "y = 11\n",
    "if x < y : \n",
    "    pass\n",
    "print('foo')"
   ]
  },
  {
   "cell_type": "code",
   "execution_count": 12,
   "metadata": {},
   "outputs": [
    {
     "name": "stdout",
     "output_type": "stream",
     "text": [
      "foo\n"
     ]
    }
   ],
   "source": [
    "if True :\n",
    "    #To do nanti akan ditambahkan\\n\",\n",
    "    pass\n",
    "print('foo')"
   ]
  },
  {
   "cell_type": "code",
   "execution_count": 13,
   "metadata": {},
   "outputs": [
    {
     "name": "stdout",
     "output_type": "stream",
     "text": [
      "p\n"
     ]
    }
   ],
   "source": [
    "for i in 'selfhelp':\n",
    "    pass\n",
    "print(i)"
   ]
  },
  {
   "cell_type": "markdown",
   "metadata": {},
   "source": [
    "## Python \"while\" Loops"
   ]
  },
  {
   "attachments": {},
   "cell_type": "markdown",
   "metadata": {},
   "source": [
    "Iteration artinya megeksekusi blok kode yang sama berulang kali, berpotensi berkali-kali.\n",
    "    \n",
    "Strutur pemrograman yang mengimplementasikan iterasi disebut loop"
   ]
  },
  {
   "cell_type": "markdown",
   "metadata": {},
   "source": [
    "while <expr> :\n",
    "    <statement(s)>"
   ]
  },
  {
   "cell_type": "code",
   "execution_count": null,
   "metadata": {},
   "outputs": [],
   "source": [
    "#x = 10\n",
    "#y = 11\n",
    "#while x < y:\n",
    "    #print(\"Infinite Loop\")"
   ]
  },
  {
   "cell_type": "code",
   "execution_count": 14,
   "metadata": {},
   "outputs": [
    {
     "name": "stdout",
     "output_type": "stream",
     "text": [
      "5\n",
      "4\n",
      "3\n",
      "2\n",
      "1\n"
     ]
    }
   ],
   "source": [
    "n = 5\n",
    "while n> 0:\n",
    "    print(n)\n",
    "    n -=1       # n = n-1"
   ]
  },
  {
   "cell_type": "code",
   "execution_count": 15,
   "metadata": {},
   "outputs": [
    {
     "name": "stdout",
     "output_type": "stream",
     "text": [
      "1\n",
      "2\n",
      "3\n",
      "4\n",
      "5\n",
      "6\n"
     ]
    }
   ],
   "source": [
    "i = 1\n",
    "while i <= 6:\n",
    "    print(i)\n",
    "    i += 1"
   ]
  },
  {
   "cell_type": "code",
   "execution_count": 17,
   "metadata": {},
   "outputs": [
    {
     "name": "stdout",
     "output_type": "stream",
     "text": [
      "Hello\n",
      "Hello\n",
      "Hello\n"
     ]
    }
   ],
   "source": [
    "ok = True\n",
    "x = 0\n",
    "while ok :\n",
    "    print(\"Hello\")\n",
    "    if x == 2 :\n",
    "        ok = False\n",
    "    x += 1"
   ]
  },
  {
   "cell_type": "markdown",
   "metadata": {},
   "source": [
    "### The Python break and continue Statement"
   ]
  },
  {
   "attachments": {},
   "cell_type": "markdown",
   "metadata": {},
   "source": [
    "break : keluar dari looping dan kembali ke eksekusi perintah selanjutnya\n",
    "\n",
    "continue : skip dan kembali eksekusi ekspresi selanjutnya"
   ]
  },
  {
   "cell_type": "code",
   "execution_count": 19,
   "metadata": {},
   "outputs": [
    {
     "name": "stdout",
     "output_type": "stream",
     "text": [
      "1\n",
      "2\n",
      "3\n",
      "4\n",
      "5\n",
      "7\n",
      "8\n"
     ]
    }
   ],
   "source": [
    "i = 0\n",
    "while(i < 8)  :\n",
    "    i +=1 \n",
    "    if(i == 6) : continue       # 1 2 3 4 5 7 8. 6 di-skip\n",
    "    print(i)"
   ]
  },
  {
   "cell_type": "code",
   "execution_count": 20,
   "metadata": {},
   "outputs": [
    {
     "name": "stdout",
     "output_type": "stream",
     "text": [
      "1\n",
      "2\n",
      "3\n",
      "4\n",
      "5\n"
     ]
    }
   ],
   "source": [
    "i = 0\n",
    "while(i < 8)  :\n",
    "    i +=1 \n",
    "    if(i == 6) : break       # 1 2 3 4 5, di stop sampai i = 6\n",
    "    print(i)"
   ]
  },
  {
   "cell_type": "code",
   "execution_count": 21,
   "metadata": {},
   "outputs": [
    {
     "name": "stdout",
     "output_type": "stream",
     "text": [
      "4\n",
      "Loop ended\n"
     ]
    }
   ],
   "source": [
    "n = 5\n",
    "while n > 0 :               # 5 > 0 : True      # 4 > 0 : True\n",
    "    n -= 1                  # 5 - 1 = 4         # 4 - 1 = 3\n",
    "    if n == 3 :             # 4 == 3 : false    # 3 == 3 : True\n",
    "        break                                   # break, looping berhenti\n",
    "    print(n)                # print(n) = 4\n",
    "print('Loop ended')\n",
    "\n"
   ]
  },
  {
   "cell_type": "code",
   "execution_count": 22,
   "metadata": {},
   "outputs": [
    {
     "name": "stdout",
     "output_type": "stream",
     "text": [
      "9\n",
      "7\n",
      "5\n",
      "3\n",
      "1\n",
      "Loop ended.\n"
     ]
    }
   ],
   "source": [
    "n = 10\n",
    "while n > 0 :\n",
    "    n -=1\n",
    "    if n%2 == 0 :\n",
    "        continue\n",
    "    print(n)\n",
    "print('Loop ended.')"
   ]
  },
  {
   "attachments": {},
   "cell_type": "markdown",
   "metadata": {},
   "source": [
    "### The else Clauses\n",
    "Python memungkinkan adanya klausa else di akhir loop while.\n",
    "\n",
    "Fitur ini cukup unik karena tidak ditemukan di sebagian besar bahasa pemrograman lainnya"
   ]
  },
  {
   "cell_type": "markdown",
   "metadata": {},
   "source": [
    "while <expr> :\n",
    "    <statement(s)>\n",
    "else :      \n",
    "    <additinal_statement(s)> "
   ]
  },
  {
   "attachments": {},
   "cell_type": "markdown",
   "metadata": {},
   "source": [
    "else dijalankan ketika kondisi sudah false"
   ]
  },
  {
   "cell_type": "code",
   "execution_count": 23,
   "metadata": {},
   "outputs": [
    {
     "name": "stdout",
     "output_type": "stream",
     "text": [
      "4\n",
      "3\n",
      "2\n",
      "1\n",
      "0\n",
      "Loop done\n",
      "1\n",
      "0\n"
     ]
    }
   ],
   "source": [
    "n = 5\n",
    "while n > 0 :\n",
    "    n -= 1\n",
    "    print(n)\n",
    "    x = n + 1\n",
    "else : \n",
    "    print('Loop done')\n",
    "    y = 0\n",
    "\n",
    "print(x)\n",
    "print(y)"
   ]
  },
  {
   "cell_type": "code",
   "execution_count": 25,
   "metadata": {},
   "outputs": [
    {
     "name": "stdout",
     "output_type": "stream",
     "text": [
      "4\n",
      "3\n",
      "2\n"
     ]
    }
   ],
   "source": [
    "n = 5\n",
    "while n > 0 :\n",
    "    n -= 1\n",
    "    print(n)\n",
    "    if n == 2:\n",
    "        break\n",
    "else :\n",
    "    print('Loop done.')\n",
    "\n",
    "# Loop di atas diakhiri sebelum waktunya dengan break, sehingga klausa else tidak dijalankan"
   ]
  },
  {
   "cell_type": "markdown",
   "metadata": {},
   "source": [
    "### Infinite Loops\n",
    "looping yang secara teoritis tidak pernah berakhir\n",
    "\n",
    "contoh : \n",
    "\n",
    "while True :\n",
    "    \n",
    "        print('foo')\n"
   ]
  },
  {
   "attachments": {},
   "cell_type": "markdown",
   "metadata": {},
   "source": [
    "### Nested While Loops\n"
   ]
  },
  {
   "cell_type": "code",
   "execution_count": 27,
   "metadata": {},
   "outputs": [
    {
     "name": "stdout",
     "output_type": "stream",
     "text": [
      "Mother\n"
     ]
    }
   ],
   "source": [
    "age = 60\n",
    "gender = \"F\"\n",
    "\n",
    "if age < 18 :\n",
    "    if gender == 'M' :\n",
    "        print('Son')\n",
    "    else :\n",
    "        print('Daughter')\n",
    "elif age >= 18 and age < 65:\n",
    "    if gender == 'M' :\n",
    "        print('Father')\n",
    "    else :\n",
    "        print('Mother')\n",
    "else : \n",
    "    if gender == 'M' :\n",
    "        print('Grandfather')\n",
    "    else : \n",
    "        print('Grandmother')\n",
    "\n"
   ]
  },
  {
   "cell_type": "code",
   "execution_count": 28,
   "metadata": {},
   "outputs": [
    {
     "data": {
      "text/plain": [
       "2"
      ]
     },
     "execution_count": 28,
     "metadata": {},
     "output_type": "execute_result"
    }
   ],
   "source": [
    "a = ['foo', 'bar']\n",
    "len(a)"
   ]
  },
  {
   "cell_type": "code",
   "execution_count": 30,
   "metadata": {},
   "outputs": [
    {
     "name": "stdout",
     "output_type": "stream",
     "text": [
      "atas 2\n",
      "Di dalam while  2\n",
      "foo\n",
      "setelah di pop  1\n",
      "==================================================\n",
      "Di dalam while  1\n",
      "bar\n",
      "setelah di pop  0\n",
      "==================================================\n"
     ]
    }
   ],
   "source": [
    "a = ['foo', 'bar']\n",
    "print(\"atas\", len(a))\n",
    "while len(a) :\n",
    "    print(\"Di dalam while \", len(a))\n",
    "    print(a.pop(0)) # get list yang akan dikeluarkan\n",
    "    print(\"setelah di pop \", len(a))\n",
    "    print(10 *\"=====\")"
   ]
  },
  {
   "cell_type": "code",
   "execution_count": 31,
   "metadata": {},
   "outputs": [
    {
     "name": "stdout",
     "output_type": "stream",
     "text": [
      "foo\n",
      "> baz\n",
      "> qux\n",
      "bar\n",
      "> baz\n",
      "> qux\n"
     ]
    }
   ],
   "source": [
    "a = ['foo', 'bar']\n",
    "\n",
    "while len(a) :\n",
    "    print(a.pop(0))\n",
    "\n",
    "    b = ['baz', 'qux']\n",
    "    \n",
    "    while len(b) :\n",
    "        print('>', b.pop(0))"
   ]
  },
  {
   "attachments": {},
   "cell_type": "markdown",
   "metadata": {},
   "source": [
    "Nb : \n",
    "- Perintah break atau continue yang ditemukan dalam nested loop berlaku untuk loop terdekat\n",
    "- While loop dapat ditempatkan di dalam pernyataan if/elif/else dan sebaliknya\n"
   ]
  },
  {
   "attachments": {},
   "cell_type": "markdown",
   "metadata": {},
   "source": [
    "### One-Line while Loops"
   ]
  },
  {
   "cell_type": "code",
   "execution_count": 1,
   "metadata": {},
   "outputs": [
    {
     "name": "stdout",
     "output_type": "stream",
     "text": [
      "4\n",
      "3\n",
      "2\n",
      "1\n",
      "0\n"
     ]
    }
   ],
   "source": [
    "n = 5\n",
    "while n>0 : n-=1; print(n)"
   ]
  },
  {
   "attachments": {},
   "cell_type": "markdown",
   "metadata": {},
   "source": [
    "## Python \"for\" Loop"
   ]
  },
  {
   "cell_type": "code",
   "execution_count": 2,
   "metadata": {},
   "outputs": [
    {
     "name": "stdout",
     "output_type": "stream",
     "text": [
      "foo\n",
      "bar\n",
      "baz\n"
     ]
    }
   ],
   "source": [
    "a = ['foo', 'bar', 'baz']\n",
    "for i in a :\n",
    "    print(i)"
   ]
  },
  {
   "cell_type": "code",
   "execution_count": 3,
   "metadata": {},
   "outputs": [
    {
     "name": "stdout",
     "output_type": "stream",
     "text": [
      "foo\n",
      "bar\n",
      "baz\n"
     ]
    }
   ],
   "source": [
    "# mencetak keys dictionary\n",
    "d = {'foo':1, 'bar':2, 'baz':3}\n",
    "for k in d:\n",
    "    print(k)"
   ]
  },
  {
   "cell_type": "code",
   "execution_count": 4,
   "metadata": {},
   "outputs": [
    {
     "name": "stdout",
     "output_type": "stream",
     "text": [
      "1\n",
      "2\n",
      "3\n"
     ]
    }
   ],
   "source": [
    "# mencetak values dicionary\n",
    "for k in d :\n",
    "    print(d[k])"
   ]
  },
  {
   "cell_type": "code",
   "execution_count": 5,
   "metadata": {},
   "outputs": [
    {
     "name": "stdout",
     "output_type": "stream",
     "text": [
      "foo : 1\n",
      "bar : 2\n",
      "baz : 3\n"
     ]
    }
   ],
   "source": [
    "# mencetak keys dan values dictionary\n",
    "for k,v in d.items() :\n",
    "    print(k, \":\", v)"
   ]
  },
  {
   "cell_type": "code",
   "execution_count": 7,
   "metadata": {},
   "outputs": [
    {
     "name": "stdout",
     "output_type": "stream",
     "text": [
      "0\n",
      "1\n",
      "2\n",
      "3\n",
      "4\n"
     ]
    }
   ],
   "source": [
    "for n in (0,1,2,3,4) :\n",
    "    print(n)"
   ]
  },
  {
   "cell_type": "code",
   "execution_count": 8,
   "metadata": {},
   "outputs": [
    {
     "name": "stdout",
     "output_type": "stream",
     "text": [
      "0\n",
      "1\n",
      "2\n",
      "3\n",
      "4\n"
     ]
    }
   ],
   "source": [
    "x = range(5)\n",
    "for n in x :\n",
    "    print(n)"
   ]
  },
  {
   "attachments": {},
   "cell_type": "markdown",
   "metadata": {},
   "source": [
    "### Break and Continue Statements"
   ]
  },
  {
   "cell_type": "code",
   "execution_count": 9,
   "metadata": {},
   "outputs": [
    {
     "name": "stdout",
     "output_type": "stream",
     "text": [
      "foo\n"
     ]
    }
   ],
   "source": [
    "for i in ['foo', 'bar', 'baz', 'qux'] :\n",
    "    if 'b' in i :\n",
    "        break\n",
    "    print(i)"
   ]
  },
  {
   "cell_type": "code",
   "execution_count": 10,
   "metadata": {},
   "outputs": [
    {
     "name": "stdout",
     "output_type": "stream",
     "text": [
      "foo\n",
      "qux\n"
     ]
    }
   ],
   "source": [
    "for i in ['foo', 'bar', 'baz', 'qux'] :\n",
    "    if 'b' in i :\n",
    "        continue\n",
    "    print(i)"
   ]
  },
  {
   "cell_type": "code",
   "execution_count": 12,
   "metadata": {},
   "outputs": [
    {
     "name": "stdout",
     "output_type": "stream",
     "text": [
      "foo\n",
      "bar\n",
      "baz\n",
      "qux\n",
      "Done\n"
     ]
    }
   ],
   "source": [
    "for i in ['foo', 'bar', 'baz', 'qux'] :\n",
    "    print(i)\n",
    "else : \n",
    "    print('Done')"
   ]
  },
  {
   "cell_type": "code",
   "execution_count": 14,
   "metadata": {},
   "outputs": [
    {
     "name": "stdout",
     "output_type": "stream",
     "text": [
      "foo\n"
     ]
    }
   ],
   "source": [
    "for i in ['foo', 'bar', 'baz', 'qux'] :\n",
    "    if i == 'bar' :\n",
    "        break\n",
    "    print(i)\n",
    "else : \n",
    "    print('Done') # will not execute, karena else dijalankan jika loop berakhir aakibat iterable habis"
   ]
  },
  {
   "cell_type": "code",
   "execution_count": 17,
   "metadata": {},
   "outputs": [
    {
     "name": "stdout",
     "output_type": "stream",
     "text": [
      "Temperaturnya adalah 54 derajat\n"
     ]
    }
   ],
   "source": [
    "temp = input(\"Temperatur yang ingin dikonversi, eg. 45F, 120C : \")\n",
    "degree = int(temp[:-1])\n",
    "i_convertion = temp[-1]\n",
    "\n",
    "if i_convertion == \"C\" :\n",
    "    result = int(round((9*degree)/ 5 + 32))\n",
    "elif i_convertion == \"F\" :\n",
    "    result = int(round((degree-32) * 5 / 9))\n",
    "else :\n",
    "    print(\"Masukan input yang benar\")\n",
    "\n",
    "print(\"Temperaturnya adalah\", result, \"derajat\")"
   ]
  },
  {
   "cell_type": "code",
   "execution_count": 1,
   "metadata": {},
   "outputs": [],
   "source": [
    "# Looping\n",
    "while True :\n",
    "    msg = input(\"Ketikan karakter : \").lower()\n",
    "    print(msg)\n",
    "    if msg == \"stop\" :\n",
    "        break"
   ]
  }
 ],
 "metadata": {
  "kernelspec": {
   "display_name": "Python 3.10.6 64-bit",
   "language": "python",
   "name": "python3"
  },
  "language_info": {
   "codemirror_mode": {
    "name": "ipython",
    "version": 3
   },
   "file_extension": ".py",
   "mimetype": "text/x-python",
   "name": "python",
   "nbconvert_exporter": "python",
   "pygments_lexer": "ipython3",
   "version": "3.10.6"
  },
  "orig_nbformat": 4,
  "vscode": {
   "interpreter": {
    "hash": "ce1a37e06af585fbe6dc97dc2317553a19466d7e09ea6e29657e0bcedd27e5a7"
   }
  }
 },
 "nbformat": 4,
 "nbformat_minor": 2
}
